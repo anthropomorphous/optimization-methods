{
 "cells": [
  {
   "cell_type": "code",
   "execution_count": null,
   "metadata": {},
   "outputs": [],
   "source": [
    "import numpy as np\n",
    "import cvxopt as cvx\n",
    "import matplotlib.pyplot as plt\n",
    "%matplotlib inline\n",
    "\n",
    "from cvxopt import matrix, solvers\n",
    "from scipy.integrate import odeint"
   ]
  },
  {
   "cell_type": "code",
   "execution_count": null,
   "metadata": {},
   "outputs": [],
   "source": [
    "def ode1(x, tt, A, c):\n",
    "    return np.dot(A, x)\n",
    "\n",
    "\n",
    "def ode2(y, tt1, A, b):\n",
    "    return np.dot(A, y) + b"
   ]
  },
  {
   "cell_type": "code",
   "execution_count": null,
   "metadata": {},
   "outputs": [],
   "source": [
    "def createG(N):    \n",
    "    G = np.eye(int(N), dtype=int).astype('float')\n",
    "    G_neg = (np.eye(int(N), dtype=int) * -1).astype('float')\n",
    "\n",
    "    G_res = matrix(np.concatenate((G, G_neg), axis=0))\n",
    "    return G_res\n",
    "\n",
    "def toQudratic(H, B, g, B0, c, D):\n",
    "    An = np.dot(H, B)\n",
    "    bn = g - np.dot(H, B0)\n",
    "    cn = np.dot(B.transpose(), c + np.dot(D, B0))\n",
    "    Dn = np.dot(np.dot(B.transpose(), D), B)\n",
    "    h = list(np.linspace(1, 1, num=60))\n",
    "\n",
    "    return An, bn, cn, Dn, h"
   ]
  },
  {
   "cell_type": "code",
   "execution_count": null,
   "metadata": {},
   "outputs": [],
   "source": [
    "def createB(A, n, ode):\n",
    "    B = np.random.random((len(A), int(n)))\n",
    "    for i in range(int(n)):\n",
    "        B[:, i] = ode[int(n) - i - 1]\n",
    "\n",
    "    return B"
   ]
  },
  {
   "cell_type": "code",
   "execution_count": null,
   "metadata": {},
   "outputs": [],
   "source": [
    "def optimalControl(D, A, b, c, x, H, g, t0, t1):\n",
    "    n = 30\n",
    "    y = np.zeros(len(A))\n",
    "    Δ = (t1 - t0) / n\n",
    "    tj = [t0 + i * Δ for i in range(1, int(n) + 1)]\n",
    "    tj0 = tj[0]\n",
    "\n",
    "    B0 = odeint(ode1, x, [t0, t1], args=(A, b))[1]\n",
    "    y1 = odeint(ode2, y, [t0, tj0], args=(A, b))[1]\n",
    "    ode = odeint(ode2, y1, tj, args=(A, b))\n",
    "\n",
    "    B = createB(A, n, ode)\n",
    "    An, bn, cn, Dn, h = toQudratic(H, B, g, B0, c, D)\n",
    "    G = createG(n)\n",
    "\n",
    "    u = solvers.qp(matrix(Dn), matrix(cn), G,\n",
    "                   matrix(h), matrix(An), matrix(bn))['x']\n",
    "\n",
    "    for i in range(0, int(n)):\n",
    "        tj[i] -= Δ\n",
    "\n",
    "    plt.figure(1)\n",
    "    plt.plot(tj,u,color='green')\n",
    "    plt.show()"
   ]
  },
  {
   "cell_type": "code",
   "execution_count": null,
   "metadata": {},
   "outputs": [],
   "source": [
    "def example5():\n",
    "    A = np.array([[-1, 1, 0, 0],\n",
    "                [1, 0, -1, 0],\n",
    "                [0, 1, 0, 1],\n",
    "                [0, 0, 1, 0]])\n",
    "\n",
    "    D = np.array([[1, 0, 0, 0],\n",
    "                [0, 1, 0, 0],\n",
    "                [0, 0, 1, 0],\n",
    "                [0, 0, 0, 1]])\n",
    "\n",
    "    b = np.array([0, 1, -1, 0])\n",
    "    c = np.array([0, 0, 0, 0])\n",
    "\n",
    "    x = [-1, -1, -1, -1]\n",
    "\n",
    "    H = np.array([[0, 1, 1, 0],\n",
    "             [1, -1, 0, -1]])\n",
    "\n",
    "    g = np.array([-72.7564, -207.8494])\n",
    "    t0 = 0.\n",
    "    t1 = 8.\n",
    "\n",
    "    optimalControl(D, A, b, c, x, H, g, t0, t1)\n",
    "\n",
    "example5()"
   ]
  }
 ],
 "metadata": {
  "kernelspec": {
   "display_name": "Python 3",
   "language": "python",
   "name": "python3"
  },
  "language_info": {
   "codemirror_mode": {
    "name": "ipython",
    "version": 3
   },
   "file_extension": ".py",
   "mimetype": "text/x-python",
   "name": "python",
   "nbconvert_exporter": "python",
   "pygments_lexer": "ipython3",
   "version": "3.8.3"
  }
 },
 "nbformat": 4,
 "nbformat_minor": 4
}
