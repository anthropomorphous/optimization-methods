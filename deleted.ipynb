{
 "cells": [
  {
   "cell_type": "code",
   "execution_count": 1,
   "metadata": {},
   "outputs": [],
   "source": [
    "import numpy as np\n",
    "\n",
    "a_matrix = np.matrix([[1, -5, 1, 0],\n",
    "                    [-3, 1, 0, 1]])\n",
    "b = np.matrix([[-10, -12]])\n",
    "c = [0, -6, 1, 0]\n",
    "initial_j_b = [2, 3]"
   ]
  },
  {
   "cell_type": "code",
   "execution_count": 2,
   "metadata": {},
   "outputs": [],
   "source": [
    "def double_simplex_method(matrix_A, b, c, Jb):\n",
    "    n = len(c)\n",
    "    basis_matrix = matrix_A[:, Jb]\n",
    "    inverse_basis_matrix = np.linalg.inv(basis_matrix)\n",
    "    c_basis = [c[i] for i in Jb]\n",
    "    double_optimal_plan = (c_basis * inverse_basis_matrix).transpose()\n",
    "    print(double_optimal_plan)\n",
    "    i = 1\n",
    "\n",
    "    while True:\n",
    "        pseudo_plan_basis = inverse_basis_matrix * b\n",
    "        pseudo_plan = [0 if index not in Jb else pseudo_plan_basis[Jb.index(index)].item(0) for index in range(n)]\n",
    "\n",
    "        negative_elements_indexes = get_negative_elements_indexes(pseudo_plan)\n",
    "\n",
    "        if len(negative_elements_indexes) == 0:\n",
    "            break\n",
    "\n",
    "        j_s = negative_elements_indexes[0]\n",
    "        delta_y = inverse_basis_matrix[Jb.index(j_s)]\n",
    "\n",
    "        mu = get_mu_list(Jb, n, delta_y, matrix_A)\n",
    "        if not have_solution(mu):\n",
    "            print('No solution')\n",
    "            return\n",
    "        negative_mu = [(index, value) for index, value in enumerate(mu) if value < 0]\n",
    "\n",
    "        j0, sigma0 = get_min_sigma_with_index(c, matrix_A, negative_mu, double_optimal_plan)\n",
    "        double_optimal_plan = double_optimal_plan + sigma0.item(0) * delta_y.transpose()\n",
    "\n",
    "        Jb[Jb.index(j_s)] = j0\n",
    "\n",
    "        index = Jb.index(j0)\n",
    "        inverse_basis_matrix = get_reverse_matrix(basis_matrix, inverse_basis_matrix, matrix_A[:, j0], index)\n",
    "        basis_matrix[:, index] = matrix_A[:, j0]\n",
    "\n",
    "        i += 1\n",
    "    return pseudo_plan, Jb\n",
    "\n",
    "\n",
    "def get_negative_elements_indexes(elements_list):\n",
    "    return [index for index, value in enumerate(elements_list) if value < 0]\n",
    "\n",
    "\n",
    "def get_mu_list(Jb, n, delta_y, matrix_A):\n",
    "    return [delta_y * matrix_A[:, index] for index in range(n) if index not in Jb]\n",
    "\n",
    "\n",
    "def have_solution(mu):\n",
    "    for elem in mu:\n",
    "        if elem < 0:\n",
    "            return True\n",
    "    return False\n",
    "\n",
    "\n",
    "def get_min_sigma_with_index(c, A, mu, double_optimal_plan):\n",
    "    sigmas = {index: (c[index] - A[:, index].transpose() * double_optimal_plan) / mu_value for index, mu_value in\n",
    "              mu}\n",
    "    min_sigma_index = min(sigmas, key=sigmas.get)\n",
    "    return min_sigma_index, sigmas.get(min_sigma_index)\n",
    "\n",
    "\n",
    "def get_reverse_matrix(source_matrix, source_reverse_matrix, vector, i):\n",
    "    l = source_reverse_matrix * vector\n",
    "    if l[i] == 0:\n",
    "        return None\n",
    "\n",
    "    li = l.item(i)\n",
    "    l[i] = -1\n",
    "    l_cap = -1 / li * l\n",
    "\n",
    "    e = np.identity(len(source_matrix))\n",
    "    e[:, i] = np.transpose(l_cap)\n",
    "    reverse_matrix = e * source_reverse_matrix\n",
    "\n",
    "    return reverse_matrix\n",
    "\n",
    "\n",
    "def check_if_reverse_matrix_is_correct(source_matrix, reverse_matrix, vector, i):\n",
    "    source_changed = source_matrix.copy()\n",
    "    source_changed[:, i] = vector\n",
    "    e = reverse_matrix.dot(source_changed)"
   ]
  },
  {
   "cell_type": "code",
   "execution_count": 3,
   "metadata": {},
   "outputs": [
    {
     "name": "stdout",
     "output_type": "stream",
     "text": [
      "[[1.]\n",
      " [0.]]\n",
      "Optimal plan: [5.0, 3.0000000000000004, 0, 0]\n",
      "Basis indexes: [1, 0]\n"
     ]
    }
   ],
   "source": [
    "optimal_plan, j_b = double_simplex_method(a_matrix, b.transpose(), c, initial_j_b)\n",
    "print(\"Optimal plan: {}\".format(optimal_plan))\n",
    "print(\"Basis indexes: {}\".format(j_b))"
   ]
  },
  {
   "cell_type": "code",
   "execution_count": null,
   "metadata": {},
   "outputs": [],
   "source": [
    "m = 3\n",
    "n = 8\n",
    "c = np.array([2., 2., 1.,−10., 1., 4.,−2.,−3.])\n",
    "b = np.array([−2., 4., 3.])\n",
    "A = np.array([[−2.,−1., 1.,−7., 0., 0., 0., 2.],\n",
    "              [4., 2., 1., 0., 1., 5.,−1.,−5.],\n",
    "              [1., 1., 0.,−1., 0., 3.,−1., 1.],])\n",
    "J_B = np.array([2, 5, 7])\n",
    "y_0 = np.array([1., 1., 1.])\n",
    "delta = np.array([1., 0., 1., 2., 0., 4., 0., 1.]"
   ]
  }
 ],
 "metadata": {
  "kernelspec": {
   "display_name": "Python 3",
   "language": "python",
   "name": "python3"
  },
  "language_info": {
   "codemirror_mode": {
    "name": "ipython",
    "version": 3
   },
   "file_extension": ".py",
   "mimetype": "text/x-python",
   "name": "python",
   "nbconvert_exporter": "python",
   "pygments_lexer": "ipython3",
   "version": "3.7.3"
  }
 },
 "nbformat": 4,
 "nbformat_minor": 2
}
