{
 "cells": [
  {
   "cell_type": "code",
   "execution_count": 1,
   "metadata": {},
   "outputs": [],
   "source": [
    "import numpy as np\n",
    "\n",
    "a_matrix = np.matrix([[1, -5, 1, 0],\n",
    "                    [-3, 1, 0, 1]])\n",
    "b = np.matrix([[-10, -12]])\n",
    "c = [0, -6, 1, 0]\n",
    "initial_j_b = [2, 3]"
   ]
  },
  {
   "cell_type": "code",
   "execution_count": 2,
   "metadata": {},
   "outputs": [],
   "source": [
    "def double_simplex_method(matrix_A, b, c, Y, Jb):\n",
    "    n = len(c)\n",
    "    basis_matrix = matrix_A[:, Jb]\n",
    "    inverse_basis_matrix = np.linalg.inv(basis_matrix)\n",
    "    c_basis = [c[i] for i in Jb]\n",
    "    double_optimal_plan = (c_basis * inverse_basis_matrix).transpose()\n",
    "    print(double_optimal_plan)\n",
    "    #double_optimal_plan = Y.transpose()\n",
    "    i = 1\n",
    "\n",
    "    while True:\n",
    "        pseudo_plan_basis = inverse_basis_matrix * b\n",
    "        pseudo_plan = [0 if index not in Jb else pseudo_plan_basis[Jb.index(index)].item(0) for index in range(n)]\n",
    "\n",
    "        negative_elements_indexes = get_negative_elements_indexes(pseudo_plan)\n",
    "\n",
    "        if len(negative_elements_indexes) == 0:\n",
    "            break\n",
    "\n",
    "        j_s = negative_elements_indexes[0]\n",
    "        delta_y = inverse_basis_matrix[Jb.index(j_s)]\n",
    "\n",
    "        mu = get_mu_list(Jb, n, delta_y, matrix_A)\n",
    "        if not have_solution(mu):\n",
    "            print('No solution')\n",
    "            return\n",
    "        negative_mu = [(index, value) for index, value in enumerate(mu) if value < 0]\n",
    "\n",
    "        j0, sigma0 = get_min_sigma_with_index(c, matrix_A, negative_mu, double_optimal_plan)\n",
    "        double_optimal_plan = double_optimal_plan + sigma0.item(0) * delta_y.transpose()\n",
    "\n",
    "        Jb[Jb.index(j_s)] = j0\n",
    "\n",
    "        index = Jb.index(j0)\n",
    "        inverse_basis_matrix = get_reverse_matrix(basis_matrix, inverse_basis_matrix, matrix_A[:, j0], index)\n",
    "        basis_matrix[:, index] = matrix_A[:, j0]\n",
    "\n",
    "        i += 1\n",
    "    return pseudo_plan, Jb\n",
    "\n",
    "\n",
    "def get_negative_elements_indexes(elements_list):\n",
    "    return [index for index, value in enumerate(elements_list) if value < 0]\n",
    "\n",
    "\n",
    "def get_mu_list(Jb, n, delta_y, matrix_A):\n",
    "    return [delta_y * matrix_A[:, index] for index in range(n) if index not in Jb]\n",
    "\n",
    "\n",
    "def have_solution(mu):\n",
    "    for elem in mu:\n",
    "        if elem < 0:\n",
    "            return True\n",
    "    return False\n",
    "\n",
    "\n",
    "def get_min_sigma_with_index(c, A, mu, double_optimal_plan):\n",
    "    sigmas = {index: (c[index] - A[:, index].transpose() * double_optimal_plan) / mu_value for index, mu_value in\n",
    "              mu}\n",
    "    min_sigma_index = min(sigmas, key=sigmas.get)\n",
    "    return min_sigma_index, sigmas.get(min_sigma_index)\n",
    "\n",
    "\n",
    "def get_reverse_matrix(source_matrix, source_reverse_matrix, vector, i):\n",
    "    l = source_reverse_matrix * vector\n",
    "    if l[i] == 0:\n",
    "        return None\n",
    "\n",
    "    li = l.item(i)\n",
    "    l[i] = -1\n",
    "    l_cap = -1 / li * l\n",
    "\n",
    "    e = np.identity(len(source_matrix))\n",
    "    e[:, i] = np.transpose(l_cap)\n",
    "    reverse_matrix = e * source_reverse_matrix\n",
    "\n",
    "    return reverse_matrix\n",
    "\n",
    "\n",
    "def check_if_reverse_matrix_is_correct(source_matrix, reverse_matrix, vector, i):\n",
    "    source_changed = source_matrix.copy()\n",
    "    source_changed[:, i] = vector\n",
    "    e = reverse_matrix.dot(source_changed)"
   ]
  },
  {
   "cell_type": "code",
   "execution_count": 3,
   "metadata": {},
   "outputs": [
    {
     "ename": "NameError",
     "evalue": "name 'initial_y' is not defined",
     "output_type": "error",
     "traceback": [
      "\u001b[1;31m---------------------------------------------------------------------------\u001b[0m",
      "\u001b[1;31mNameError\u001b[0m                                 Traceback (most recent call last)",
      "\u001b[1;32m<ipython-input-3-0d182e9be792>\u001b[0m in \u001b[0;36m<module>\u001b[1;34m\u001b[0m\n\u001b[1;32m----> 1\u001b[1;33m \u001b[0moptimal_plan\u001b[0m\u001b[1;33m,\u001b[0m \u001b[0mj_b\u001b[0m \u001b[1;33m=\u001b[0m \u001b[0mdouble_simplex_method\u001b[0m\u001b[1;33m(\u001b[0m\u001b[0ma_matrix\u001b[0m\u001b[1;33m,\u001b[0m \u001b[0mb\u001b[0m\u001b[1;33m.\u001b[0m\u001b[0mtranspose\u001b[0m\u001b[1;33m(\u001b[0m\u001b[1;33m)\u001b[0m\u001b[1;33m,\u001b[0m \u001b[0mc\u001b[0m\u001b[1;33m,\u001b[0m \u001b[0minitial_y\u001b[0m\u001b[1;33m,\u001b[0m \u001b[0minitial_j_b\u001b[0m\u001b[1;33m)\u001b[0m\u001b[1;33m\u001b[0m\u001b[1;33m\u001b[0m\u001b[0m\n\u001b[0m\u001b[0;32m      2\u001b[0m \u001b[0mprint\u001b[0m\u001b[1;33m(\u001b[0m\u001b[1;34m\"Optimal plan: {}\"\u001b[0m\u001b[1;33m.\u001b[0m\u001b[0mformat\u001b[0m\u001b[1;33m(\u001b[0m\u001b[0moptimal_plan\u001b[0m\u001b[1;33m)\u001b[0m\u001b[1;33m)\u001b[0m\u001b[1;33m\u001b[0m\u001b[1;33m\u001b[0m\u001b[0m\n\u001b[0;32m      3\u001b[0m \u001b[0mprint\u001b[0m\u001b[1;33m(\u001b[0m\u001b[1;34m\"Basis indexes: {}\"\u001b[0m\u001b[1;33m.\u001b[0m\u001b[0mformat\u001b[0m\u001b[1;33m(\u001b[0m\u001b[0mj_b\u001b[0m\u001b[1;33m)\u001b[0m\u001b[1;33m)\u001b[0m\u001b[1;33m\u001b[0m\u001b[1;33m\u001b[0m\u001b[0m\n",
      "\u001b[1;31mNameError\u001b[0m: name 'initial_y' is not defined"
     ]
    }
   ],
   "source": [
    "optimal_plan, j_b = double_simplex_method(a_matrix, b.transpose(), c, initial_y, initial_j_b)\n",
    "print(\"Optimal plan: {}\".format(optimal_plan))\n",
    "print(\"Basis indexes: {}\".format(j_b))"
   ]
  },
  {
   "cell_type": "code",
   "execution_count": null,
   "metadata": {},
   "outputs": [],
   "source": []
  }
 ],
 "metadata": {
  "kernelspec": {
   "display_name": "Python 3",
   "language": "python",
   "name": "python3"
  },
  "language_info": {
   "codemirror_mode": {
    "name": "ipython",
    "version": 3
   },
   "file_extension": ".py",
   "mimetype": "text/x-python",
   "name": "python",
   "nbconvert_exporter": "python",
   "pygments_lexer": "ipython3",
   "version": "3.7.3"
  }
 },
 "nbformat": 4,
 "nbformat_minor": 2
}
