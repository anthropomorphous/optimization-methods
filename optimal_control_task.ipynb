{
 "cells": [
  {
   "cell_type": "code",
   "execution_count": 2,
   "metadata": {},
   "outputs": [
    {
     "ename": "ModuleNotFoundError",
     "evalue": "No module named 'cvxopt.base'",
     "output_type": "error",
     "traceback": [
      "\u001b[1;31m---------------------------------------------------------------------------\u001b[0m",
      "\u001b[1;31mModuleNotFoundError\u001b[0m                       Traceback (most recent call last)",
      "\u001b[1;32m<ipython-input-2-63aeeb3f012e>\u001b[0m in \u001b[0;36m<module>\u001b[1;34m\u001b[0m\n\u001b[0;32m      1\u001b[0m \u001b[1;32mimport\u001b[0m \u001b[0mnumpy\u001b[0m \u001b[1;32mas\u001b[0m \u001b[0mnp\u001b[0m\u001b[1;33m\u001b[0m\u001b[1;33m\u001b[0m\u001b[0m\n\u001b[1;32m----> 2\u001b[1;33m \u001b[1;32mimport\u001b[0m \u001b[0mcvxopt\u001b[0m \u001b[1;32mas\u001b[0m \u001b[0mcvx\u001b[0m\u001b[1;33m\u001b[0m\u001b[1;33m\u001b[0m\u001b[0m\n\u001b[0m\u001b[0;32m      3\u001b[0m \u001b[1;32mimport\u001b[0m \u001b[0mpylab\u001b[0m\u001b[1;33m\u001b[0m\u001b[1;33m\u001b[0m\u001b[0m\n\u001b[0;32m      4\u001b[0m \u001b[1;32mfrom\u001b[0m \u001b[0mscipy\u001b[0m\u001b[1;33m.\u001b[0m\u001b[0mintegrate\u001b[0m \u001b[1;32mimport\u001b[0m \u001b[0modeint\u001b[0m\u001b[1;33m\u001b[0m\u001b[1;33m\u001b[0m\u001b[0m\n\u001b[0;32m      5\u001b[0m \u001b[1;33m\u001b[0m\u001b[0m\n",
      "\u001b[1;32m~\\Anaconda2\\envs\\py38\\Lib\\site-packages\\cvxopt\\__init__.py\u001b[0m in \u001b[0;36m<module>\u001b[1;34m\u001b[0m\n\u001b[0;32m     48\u001b[0m along with this program.  If not, see <http://www.gnu.org/licenses/>.\"\"\"\n\u001b[0;32m     49\u001b[0m \u001b[1;33m\u001b[0m\u001b[0m\n\u001b[1;32m---> 50\u001b[1;33m \u001b[1;32mimport\u001b[0m \u001b[0mcvxopt\u001b[0m\u001b[1;33m.\u001b[0m\u001b[0mbase\u001b[0m\u001b[1;33m\u001b[0m\u001b[1;33m\u001b[0m\u001b[0m\n\u001b[0m\u001b[0;32m     51\u001b[0m \u001b[1;33m\u001b[0m\u001b[0m\n\u001b[0;32m     52\u001b[0m \u001b[1;32mdef\u001b[0m \u001b[0mcopyright\u001b[0m\u001b[1;33m(\u001b[0m\u001b[1;33m)\u001b[0m\u001b[1;33m:\u001b[0m\u001b[1;33m\u001b[0m\u001b[1;33m\u001b[0m\u001b[0m\n",
      "\u001b[1;31mModuleNotFoundError\u001b[0m: No module named 'cvxopt.base'"
     ]
    }
   ],
   "source": [
    "import numpy as np\n",
    "import cvxopt as cvx\n",
    "import pylab\n",
    "from scipy.integrate import odeint\n",
    "\n",
    "a_matrix = np.matrix([[-1, 1, 0, 0],\n",
    "                    [1, 0, -1, 0],\n",
    "                    [0, 1, 0, 1],\n",
    "                    [0, 0, 1, 0]])\n",
    "d_matrix = np.matrix([[1, 0, 0, 0],\n",
    "                    [0, 1, 0, 0],\n",
    "                    [0, 0, 1, 0],\n",
    "                    [0, 0, 0, 1]])\n",
    "b = np.matrix([[0, 1, -1, 0]])\n",
    "c = np.matrix([[0], [0], [0], [0]])\n",
    "x = [-1, -1, -1, -1]\n",
    "H = np.matrix([[0, 1, 1, 0],\n",
    "             [1, -1, 0, -1]])\n",
    "g = np.matrix([[-72.7564], [-207.8494]])\n",
    "t_0 = 0\n",
    "t = 8"
   ]
  },
  {
   "cell_type": "code",
   "execution_count": 2,
   "metadata": {},
   "outputs": [],
   "source": [
    "def func(omega, tt, A, c):\n",
    "    return np.dot(A, omega)\n",
    "\n",
    "\n",
    "def func1(y, tt1, A, b):\n",
    "    return np.dot(A, y) + b\n",
    "\n",
    "\n",
    "def prepareQuad(B, B0, D, H, N, c, g):\n",
    "    D_new = cvx.matrix(np.dot(np.dot(B.transpose(), D), B))\n",
    "    A_new = cvx.matrix(np.dot(H, B))\n",
    "    c_new = cvx.matrix(np.dot(B.transpose(), c + np.dot(D, B0)))\n",
    "    b_new = cvx.matrix(g - np.dot(H, B0))\n",
    "    G = np.zeros((2 * int(N), int(N)))\n",
    "    for i in xrange(int(N)):\n",
    "        G[i][i] = 1\n",
    "    for i in xrange(int(N)):\n",
    "        G[int(N) + i][i] = -1\n",
    "    G = cvx.matrix(G)\n",
    "    h = [1.0 for _ in xrange(2 * int(N))]\n",
    "    h = cvx.matrix(h)\n",
    "    return A_new, D_new, G, b_new, c_new, h\n",
    "\n",
    "\n",
    "def optimalControl(D, A, b, c, x_zv, H, g, t0, t_zv):\n",
    "    N = 30\n",
    "    y = np.zeros(len(A))\n",
    "    h = (t_zv - t0) / N\n",
    "    tj = []\n",
    "\n",
    "    for i in xrange(1, int(N) + 1):\n",
    "        tj.append(t0 + i * h)\n",
    "\n",
    "    tt = [t0, t_zv]\n",
    "    B0 = odeint(func, x_zv, tt, args=(A, b))[1]\n",
    "    tt1 = [t0, tj[0]]\n",
    "    y1 = odeint(func1, y, tt1, args=(A, b))[1]\n",
    "    temp = odeint(func1, y1, tj, args=(A, b))\n",
    "    B = np.random.random((len(A), int(N)))\n",
    "\n",
    "    for i in xrange(int(N)):\n",
    "        B[:, i] = temp[int(N) - i - 1]\n",
    "\n",
    "    A_new, D_new, G, b_new, c_new, h = prepareQuad(B, B0, D, H, N, c, g)\n",
    "\n",
    "    u = cvx.solvers.qp(D_new, c_new, G, h, A_new, b_new)['x']\n",
    "\n",
    "    for i in xrange(0, int(N)):\n",
    "        tj[i] -= (t_zv - t0) / N\n",
    "\n",
    "    pylab.plot(tj, u)\n",
    "    pylab.show()"
   ]
  },
  {
   "cell_type": "code",
   "execution_count": null,
   "metadata": {},
   "outputs": [],
   "source": [
    "optimalControl(d_matrix, a_matrix, b, c, x, H, g, t_0, t)"
   ]
  },
  {
   "cell_type": "code",
   "execution_count": 6,
   "metadata": {},
   "outputs": [
    {
     "ename": "ModuleNotFoundError",
     "evalue": "No module named 'cvxopt.base'",
     "output_type": "error",
     "traceback": [
      "\u001b[1;31m---------------------------------------------------------------------------\u001b[0m",
      "\u001b[1;31mModuleNotFoundError\u001b[0m                       Traceback (most recent call last)",
      "\u001b[1;32m<ipython-input-6-59f26213eb0c>\u001b[0m in \u001b[0;36m<module>\u001b[1;34m\u001b[0m\n\u001b[1;32m----> 1\u001b[1;33m \u001b[1;32mimport\u001b[0m \u001b[0mcvxopt\u001b[0m \u001b[1;32mas\u001b[0m \u001b[0mcvx\u001b[0m\u001b[1;33m\u001b[0m\u001b[1;33m\u001b[0m\u001b[0m\n\u001b[0m",
      "\u001b[1;32m~\\Anaconda2\\envs\\py38\\Lib\\site-packages\\cvxopt\\__init__.py\u001b[0m in \u001b[0;36m<module>\u001b[1;34m\u001b[0m\n\u001b[0;32m     48\u001b[0m along with this program.  If not, see <http://www.gnu.org/licenses/>.\"\"\"\n\u001b[0;32m     49\u001b[0m \u001b[1;33m\u001b[0m\u001b[0m\n\u001b[1;32m---> 50\u001b[1;33m \u001b[1;32mimport\u001b[0m \u001b[0mcvxopt\u001b[0m\u001b[1;33m.\u001b[0m\u001b[0mbase\u001b[0m\u001b[1;33m\u001b[0m\u001b[1;33m\u001b[0m\u001b[0m\n\u001b[0m\u001b[0;32m     51\u001b[0m \u001b[1;33m\u001b[0m\u001b[0m\n\u001b[0;32m     52\u001b[0m \u001b[1;32mdef\u001b[0m \u001b[0mcopyright\u001b[0m\u001b[1;33m(\u001b[0m\u001b[1;33m)\u001b[0m\u001b[1;33m:\u001b[0m\u001b[1;33m\u001b[0m\u001b[1;33m\u001b[0m\u001b[0m\n",
      "\u001b[1;31mModuleNotFoundError\u001b[0m: No module named 'cvxopt.base'"
     ]
    }
   ],
   "source": [
    "import cvxopt as cvx"
   ]
  },
  {
   "cell_type": "code",
   "execution_count": null,
   "metadata": {},
   "outputs": [],
   "source": []
  }
 ],
 "metadata": {
  "kernelspec": {
   "display_name": "Python 3",
   "language": "python",
   "name": "python3"
  },
  "language_info": {
   "codemirror_mode": {
    "name": "ipython",
    "version": 3
   },
   "file_extension": ".py",
   "mimetype": "text/x-python",
   "name": "python",
   "nbconvert_exporter": "python",
   "pygments_lexer": "ipython3",
   "version": "3.7.3"
  }
 },
 "nbformat": 4,
 "nbformat_minor": 2
}
