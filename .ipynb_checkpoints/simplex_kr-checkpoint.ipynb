{
 "cells": [
  {
   "cell_type": "code",
   "execution_count": 2,
   "metadata": {},
   "outputs": [],
   "source": [
    "import numpy as np\n",
    "import math"
   ]
  },
  {
   "cell_type": "code",
   "execution_count": 98,
   "metadata": {},
   "outputs": [
    {
     "name": "stdout",
     "output_type": "stream",
     "text": [
      "[[ 0  1  4  1  0 -8  1  5]\n",
      " [ 0 -1  0 -1  0  0  0  0]\n",
      " [ 0  2 -1  0 -1  3 -1  0]\n",
      " [ 1  1  1  1  0  3  1  1]] \n",
      "b =  [ 36 -11  10  20] \n",
      "c =  [-5  2  3 -4 -6  0  1 -5] \n",
      "x =  [4 5 0 6 0 0 0 5] \n",
      "Jb =  [1 2 4 8]\n"
     ]
    }
   ],
   "source": [
    "# Считаем данные задачи из файла\n",
    "A = []\n",
    "b = []\n",
    "c = []\n",
    "x = []\n",
    "Jb = []\n",
    "\n",
    "def get_arr(string):\n",
    "    return [int(i) for i in string.split()]\n",
    "    \n",
    "with open('zlp.txt', 'r') as f:\n",
    "    m, n = [int(i) for i in f.readline().split()]\n",
    "    for _ in range(m):\n",
    "        A.append(get_arr(f.readline()))\n",
    "    A = np.array(A)\n",
    "    b = np.array(get_arr(f.readline()))\n",
    "    c = np.array(get_arr(f.readline()))\n",
    "    x = np.array(get_arr(f.readline()))\n",
    "    Jb = np.array(get_arr(f.readline()))\n",
    "    \n",
    "print(A, \"\\nb = \", b, \"\\nc = \",  c, \"\\nx = \", x, \"\\nJb = \", Jb)"
   ]
  },
  {
   "cell_type": "code",
   "execution_count": 99,
   "metadata": {},
   "outputs": [
    {
     "name": "stdout",
     "output_type": "stream",
     "text": [
      "[[0, 0, 0, 1], [1, -1, 2, 1], [1, -1, 0, 1], [5, 0, 0, 1]] \n",
      " [[-0.2  0.   0.   0.2]\n",
      " [ 0.8 -0.  -1.   0.2]\n",
      " [-0.   0.5 -0.5 -0. ]\n",
      " [ 1.   0.   0.   0. ]] \n",
      "c =  [-5, 2, -4, -5]\n"
     ]
    }
   ],
   "source": [
    "# По заданному множеству базисных индексов сформируем\n",
    "# матрицы Ab, B и вектор cb\n",
    "A_t = [list(i) for i in zip(*A)]\n",
    "A_basis = [A_t[index - 1] for index in Jb]\n",
    "\n",
    "# обратная к Ab\n",
    "B = np.linalg.inv(np.array(A_basis))\n",
    "\n",
    "cb = [c[index - 1] for index in Jb]\n",
    "print(A_basis, \"\\n\", B, \"\\nc = \", cb)"
   ]
  },
  {
   "cell_type": "code",
   "execution_count": 100,
   "metadata": {},
   "outputs": [
    {
     "name": "stdout",
     "output_type": "stream",
     "text": [
      "[-2.4 -2.   0.  -0.6]\n"
     ]
    }
   ],
   "source": [
    "# Получим вектор потенциалов\n",
    "c_basis = [c[index - 1] for index in Jb]\n",
    "u = np.dot(c_basis, B)\n",
    "print(u)"
   ]
  },
  {
   "cell_type": "code",
   "execution_count": 101,
   "metadata": {},
   "outputs": [
    {
     "name": "stdout",
     "output_type": "stream",
     "text": [
      "[  4.4  -3.  -13.2   3.    6.   17.4  -4.   -7.6]\n"
     ]
    }
   ],
   "source": [
    "# Получим вектор оценок\n",
    "delta = u @ A - c\n",
    "print(delta)"
   ]
  },
  {
   "cell_type": "code",
   "execution_count": 102,
   "metadata": {},
   "outputs": [],
   "source": [
    "# Зададим проверку условия оптимальности в виде функции\n",
    "def is_optimal_solution(delta, Jb):\n",
    "    for index, value in enumerate(delta):\n",
    "        if index + 1 not in Jb and value < 0:\n",
    "            return False\n",
    "    return True"
   ]
  },
  {
   "cell_type": "code",
   "execution_count": 103,
   "metadata": {},
   "outputs": [
    {
     "name": "stdout",
     "output_type": "stream",
     "text": [
      "No\n"
     ]
    }
   ],
   "source": [
    "# Проверим\n",
    "if is_optimal_solution(delta, Jb):\n",
    "    print(\"Bounded\")\n",
    "    print(*[\"{0:0.10f}\".format(i) for i in x])\n",
    "else: print(\"No\")"
   ]
  },
  {
   "cell_type": "code",
   "execution_count": 104,
   "metadata": {},
   "outputs": [],
   "source": [
    "# Выберем индекс j0, для которого выполнится условие:\n",
    "j0 = next(index for index, value in enumerate(delta) if value < 0)"
   ]
  },
  {
   "cell_type": "code",
   "execution_count": 105,
   "metadata": {},
   "outputs": [
    {
     "name": "stdout",
     "output_type": "stream",
     "text": [
      "[ 0.  -1.  -1.5  1. ]\n"
     ]
    }
   ],
   "source": [
    "# Построим вектор z\n",
    "z = np.dot(B, A_t[j0])\n",
    "print(z)"
   ]
  },
  {
   "cell_type": "code",
   "execution_count": 106,
   "metadata": {},
   "outputs": [
    {
     "name": "stdout",
     "output_type": "stream",
     "text": [
      "[inf, inf, inf, 5.0] \n",
      " Minimal: 5.0\n"
     ]
    }
   ],
   "source": [
    "# Получаем θi\n",
    "theta = [x[Jb[index] - 1] / value if value > 0 else math.inf for index, value in enumerate(z)]\n",
    "index_min, theta_min = min(enumerate(theta), key=lambda pair: pair[1])\n",
    "print(theta, \"\\n Minimal:\" , theta_min)"
   ]
  },
  {
   "cell_type": "code",
   "execution_count": 107,
   "metadata": {},
   "outputs": [
    {
     "name": "stdout",
     "output_type": "stream",
     "text": [
      "[4.0, 5.0, 0, 13.5, 0, 0, 0, 0] \n",
      " 3 \n",
      " [ 1 -1  2  1] \n",
      " [1 2 4 2]\n"
     ]
    }
   ],
   "source": [
    "Jb[index_min] = j0 + 1\n",
    "\n",
    "# Defining of vector and column number for optimized inversion of matrix\n",
    "column = index_min\n",
    "vector = A[:, j0]\n",
    "\n",
    "new_x = [0] * len(x)\n",
    "for index, value in enumerate(Jb):\n",
    "    new_x[value - 1] = x[value - 1] - theta_min * z[index]\n",
    "new_x[j0] = theta_min\n",
    "    \n",
    "x = new_x\n",
    "print(x, \"\\n\", column, \"\\n\", vector, \"\\n\", Jb)"
   ]
  },
  {
   "cell_type": "code",
   "execution_count": 82,
   "metadata": {},
   "outputs": [
    {
     "ename": "NameError",
     "evalue": "name 'get_optimized_inverse_matrix' is not defined",
     "output_type": "error",
     "traceback": [
      "\u001b[1;31m---------------------------------------------------------------------------\u001b[0m",
      "\u001b[1;31mNameError\u001b[0m                                 Traceback (most recent call last)",
      "\u001b[1;32m<ipython-input-82-9d3d7caa714f>\u001b[0m in \u001b[0;36m<module>\u001b[1;34m\u001b[0m\n\u001b[1;32m----> 1\u001b[1;33m \u001b[0minverse_basis_matrix\u001b[0m \u001b[1;33m=\u001b[0m \u001b[0mget_optimized_inverse_matrix\u001b[0m\u001b[1;33m(\u001b[0m\u001b[0mbasis_matrix\u001b[0m\u001b[1;33m,\u001b[0m \u001b[0minverse_basis_matrix\u001b[0m\u001b[1;33m,\u001b[0m \u001b[0mcolumn\u001b[0m\u001b[1;33m,\u001b[0m \u001b[0mvector\u001b[0m\u001b[1;33m)\u001b[0m\u001b[1;33m\u001b[0m\u001b[1;33m\u001b[0m\u001b[0m\n\u001b[0m\u001b[0;32m      2\u001b[0m \u001b[0mA_basis\u001b[0m \u001b[1;33m=\u001b[0m \u001b[0mnp\u001b[0m\u001b[1;33m.\u001b[0m\u001b[0marray\u001b[0m\u001b[1;33m(\u001b[0m\u001b[0mget_basis_matrix\u001b[0m\u001b[1;33m(\u001b[0m\u001b[0mtransposed_matrix_a\u001b[0m\u001b[1;33m,\u001b[0m \u001b[0mJb\u001b[0m\u001b[1;33m)\u001b[0m\u001b[1;33m)\u001b[0m\u001b[1;33m\u001b[0m\u001b[1;33m\u001b[0m\u001b[0m\n",
      "\u001b[1;31mNameError\u001b[0m: name 'get_optimized_inverse_matrix' is not defined"
     ]
    }
   ],
   "source": [
    "# Переходим к следующей итерации\n",
    "B = get_optimized_inverse_matrix(A_basis, B, column, vector)\n",
    "A_basis = np.array(get_basis_matrix(transposed_matrix_a, Jb))"
   ]
  },
  {
   "cell_type": "code",
   "execution_count": null,
   "metadata": {},
   "outputs": [],
   "source": []
  }
 ],
 "metadata": {
  "kernelspec": {
   "display_name": "Python 3",
   "language": "python",
   "name": "python3"
  },
  "language_info": {
   "codemirror_mode": {
    "name": "ipython",
    "version": 3
   },
   "file_extension": ".py",
   "mimetype": "text/x-python",
   "name": "python",
   "nbconvert_exporter": "python",
   "pygments_lexer": "ipython3",
   "version": "3.7.3"
  }
 },
 "nbformat": 4,
 "nbformat_minor": 2
}
